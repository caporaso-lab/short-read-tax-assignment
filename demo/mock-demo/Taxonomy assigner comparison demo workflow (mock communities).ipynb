{
 "metadata": {
  "name": "Taxonomy assigner comparison demo workflow (mock communities)"
 },
 "nbformat": 3,
 "nbformat_minor": 0,
 "worksheets": [
  {
   "cells": [
    {
     "cell_type": "heading",
     "level": 1,
     "metadata": {},
     "source": [
      "Comparing taxonomy assigners using mock communities: demo workflow"
     ]
    },
    {
     "cell_type": "markdown",
     "metadata": {},
     "source": [
      "This interactive notebook demonstrates what a workflow might look like when comparing two or more taxonomy assigners (or different assigner configurations, e.g. varying confidence levels) using mock community sequence data. This example workflow is the basis for the comparisons that are made in the main text and supplementary materials of the paper. If you are interested in designing your own taxonomy assigner comparisons (e.g. comparing assigners not present in this study, trying out different datasets, etc.) this workflow is a good framework to start with.\n",
      "\n",
      "**IMPORTANT:** The data used in this notebook is a small, random subset of a single mock community sample, which can be found in the public QIIME database under [study ID 1688](ftp://thebeast.colorado.edu/pub/QIIME_DB_Public_Studies/study_1688_split_library_seqs_and_mapping.tgz). The results obtained from this notebook should not be used for anything other than illustrative purposes of the types of tables, plots, etc. that can be generated in order to facilitate comparison between taxonomy assigners. To see the full, published results, please refer to the main text and supplementary materials. **These are not real results for you to analyze!**"
     ]
    },
    {
     "cell_type": "heading",
     "level": 2,
     "metadata": {},
     "source": [
      "Before you begin"
     ]
    },
    {
     "cell_type": "markdown",
     "metadata": {},
     "source": [
      "You'll need to have a working [QIIME](http://www.qiime.org) installation on the computer that this notebook will be running on. This notebook was tested with the latest development version of QIIME (at the time of writing), which is QIIME 1.7.0-dev, master@7b0920b.\n",
      "\n",
      "You will also need a working installation of the [short-read-tax-assignment](https://github.com/gregcaporaso/short-read-tax-assignment) GitHub repository. Please see the README.md file included in that repository for installation details.\n",
      "\n",
      "Finally, you will need [Perl](http://www.perl.org/) installed."
     ]
    },
    {
     "cell_type": "heading",
     "level": 2,
     "metadata": {},
     "source": [
      "Setting things up"
     ]
    },
    {
     "cell_type": "markdown",
     "metadata": {},
     "source": [
      "First, we'll download the Greengenes 13_5 database, which we'll use as our reference database."
     ]
    },
    {
     "cell_type": "code",
     "collapsed": false,
     "input": [
      "!wget ftp://greengenes.microbio.me/greengenes_release/gg_13_5/gg_13_5_otus.tar.gz\n",
      "!tar -xzf gg_13_5_otus.tar.gz"
     ],
     "language": "python",
     "metadata": {},
     "outputs": []
    },
    {
     "cell_type": "markdown",
     "metadata": {},
     "source": [
      "We'll also set up some shortcuts to refer to common filepaths that will be used throughout the rest of the notebook."
     ]
    },
    {
     "cell_type": "code",
     "collapsed": false,
     "input": [
      "from os.path import join\n",
      "# these are only available in the current development branch of IPython\n",
      "from IPython.display import FileLinks, FileLink\n",
      "\n",
      "input_base = 'S16S-2'\n",
      "\n",
      "otu_base = 'gg_13_5_otus'\n",
      "reference_seqs = join(otu_base, 'rep_set/97_otus.fasta')\n",
      "reference_tax = join(otu_base, 'taxonomy/97_otu_taxonomy.txt')\n",
      "\n",
      "tax_output_dir = 'multiple_assign_taxonomy'\n",
      "tax_output_study_dir = join(tax_output_dir, input_base)\n",
      "tax_compare_dir = 'taxa_compare_table'\n",
      "\n",
      "# The known taxonomic composition of the mock community we're using in this workflow.\n",
      "mock_community_key_dir = 'keys'\n",
      "mock_community_key_fp = join(mock_community_key_dir, 'S16S-2_key.txt')"
     ],
     "language": "python",
     "metadata": {},
     "outputs": []
    },
    {
     "cell_type": "heading",
     "level": 2,
     "metadata": {},
     "source": [
      "OTU picking"
     ]
    },
    {
     "cell_type": "markdown",
     "metadata": {},
     "source": [
      "The next step in the workflow is to pick OTUs. We have already done this step for you beforehand, and chose a small, random subset of the OTU table in order to keep the running time of the notebook relatively short. \n",
      "\n",
      "If you're interested in running this workflow using your own data, you'd perform open-reference OTU picking on your demultiplexed sequences. The goal is to end up with a representative set of sequences that will be passed to the taxonomy assigners to have their taxonomy determined.\n",
      "\n",
      "The following command will perform this step:\n",
      "\n",
      "```pick_open_reference_otus.py -i <input sequences> -o <output directory> -r $reference_seqs -p demo_params.txt --suppress_taxonomy_assignment```\n",
      "\n",
      "Note that taxonomy assignment is suppressed during the OTU picking step because we want to have an OTU table without taxonomy. This table will have taxonomy assignments added to it for the various assigner/parameter combinations (see the next step in the workflow)."
     ]
    },
    {
     "cell_type": "heading",
     "level": 2,
     "metadata": {},
     "source": [
      "Taxonomy assignment"
     ]
    },
    {
     "cell_type": "markdown",
     "metadata": {},
     "source": [
      "This next command performs multiple taxonomy assignments using the BLAST and RDP taxonomy assigners. It uses various BLAST e-value thresholds and RDP confidence levels.\n",
      "\n",
      "Note that ```multiple_assign_taxonomy.py``` can operate on multiple input datasets. In this example, we are only specifying a single dataset in the interest of keeping the demo runtime relatively short. The script also supports the mothur and RTAX assigners.\n",
      "\n",
      "This will take a few minutes to run."
     ]
    },
    {
     "cell_type": "code",
     "collapsed": false,
     "input": [
      "!multiple_assign_taxonomy.py -i $input_base -o $tax_output_dir -m blast,rdp -e 100,0.0001,0.000001,1,1e-10,1e-30 -c 0.1,0.5,0.8,1.0 -r $reference_seqs -t $reference_tax --clean_otu_table_filename otu_table_mc2_no_pynast_failures.biom --rdp_max_memory 4000"
     ],
     "language": "python",
     "metadata": {},
     "outputs": []
    },
    {
     "cell_type": "heading",
     "level": 2,
     "metadata": {},
     "source": [
      "Comparing results to the expected community composition"
     ]
    },
    {
     "cell_type": "markdown",
     "metadata": {},
     "source": [
      "Next we compare each of the results from different assigners/configurations to the expected mock community composition. Pearson  and Spearman correlation coefficients are used to perform the comparisons, and the results are summarized in a tab-separated-value (TSV) table that can easily be loaded into a spreadsheet program such as Excel. Each cell in the table contains the Pearson correlation coefficient followed by the Spearman correlation coefficient."
     ]
    },
    {
     "cell_type": "code",
     "collapsed": false,
     "input": [
      "!generate_taxa_compare_table.py -r $tax_output_dir -k $mock_community_key_dir -o $tax_compare_dir\n",
      "FileLinks(tax_compare_dir)"
     ],
     "language": "python",
     "metadata": {},
     "outputs": []
    },
    {
     "cell_type": "markdown",
     "metadata": {},
     "source": [
      "We can also visualize the differences between taxonomy assigners and the expected community composition by computing Bray-Curtis dissimilarities between each of the assigners/configurations based on the taxonomic assignments that they made. Once all pairwise distances are calculated, the resulting distance matrix can be transformed into 2- or 3-dimenional space using principal coordinates analysis (PCoA)."
     ]
    },
    {
     "cell_type": "code",
     "collapsed": false,
     "input": [
      "# Copy the expected community composition into the directory we're scanning because we want to include\n",
      "# this with the rest of the results.\n",
      "!mkdir $tax_output_study_dir/Expected\n",
      "!cp $mock_community_key_fp $tax_output_study_dir/Expected/otu_table_mc2_w_taxa_L6.txt\n",
      "\n",
      "# Create an OTU table in TSV format by combining all taxonomic assignments from all datasets into a single table.\n",
      "# The rows represent specific taxa and the columns represent specific assigners/configurations, as well as the\n",
      "# expected results. The resulting table is converted into a BIOM-formatted table so that it can be used with\n",
      "# other QIIME scripts.\n",
      "configs = ['rdp_0.1', 'rdp_0.5', 'rdp_0.8', 'rdp_1.0',\n",
      "           'blast_100.0', 'blast_0.0001', 'blast_1e-06',\n",
      "           'blast_1.0', 'blast_1e-10', 'blast_1e-30']\n",
      "configs_str = ','.join(configs)\n",
      "\n",
      "!short-taxa-reads-bdiv-table.pl $tax_output_study_dir $configs_str,Expected 6\n",
      "!convert_biom.py --biom_table_type=\"otu table\" --process_obs_metadata taxonomy -i $tax_output_study_dir/concatenated_otu_table.txt -o $tax_output_study_dir/concatenated_otu_table.biom\n",
      "\n",
      "# Calculate beta diversity using Bray-Curtis dissimilarities. Generate 2D and 3D PCoA plots.\n",
      "!beta_diversity_through_plots.py -m $tax_output_study_dir/concatenated_otu_map.txt -p demo_params.txt --color_by_all_fields -f -i $tax_output_study_dir/concatenated_otu_table.biom -o concatenated_bdiv_plots/\n",
      "FileLink('concatenated_bdiv_plots/bray_curtis_3d_discrete/bray_curtis_pc_3D_PCoA_plots.html')"
     ],
     "language": "python",
     "metadata": {},
     "outputs": []
    },
    {
     "cell_type": "markdown",
     "metadata": {},
     "source": [
      "We can create 3-dimensional biplots to visualize the taxa that are driving the differences between assigners/configurations. We'll do this analysis at the genus level."
     ]
    },
    {
     "cell_type": "code",
     "collapsed": false,
     "input": [
      "# Strip out higher taxonomic levels to leave only the genus level.\n",
      "!sed 's/^.*;//g' $tax_output_study_dir/concatenated_taxa_sum_L6.txt > $tax_output_study_dir/concatenated_taxa_sum_L6-genus-only.txt\n",
      "!make_emperor.py --biplot_fp concatenated_bdiv_plots/bray_curtis_3d_discrete_taxa/taxa_coordinates.txt -b \"assignment_method,Description\" -m $tax_output_study_dir/concatenated_otu_map.txt -n -1 -i concatenated_bdiv_plots/bray_curtis_pc.txt -o concatenated_bdiv_plots/bray_curtis_3d_discrete_taxa/ -t $tax_output_study_dir/concatenated_taxa_sum_L6-genus-only.txt\n",
      "FileLink('concatenated_bdiv_plots/bray_curtis_3d_discrete_taxa/index.html')"
     ],
     "language": "python",
     "metadata": {},
     "outputs": []
    },
    {
     "cell_type": "markdown",
     "metadata": {},
     "source": [
      "We can also create a bipartite network to visualize the taxa that were only classified by a subset of the taxonomy assigners, as well as to see what taxonomic assignments were shared among the taxonomy assigners. The resulting files can be loaded into a program such as [Cytoscape](http://www.cytoscape.org/) for viewing and manipulation. For more details, please refer to QIIME's [bipartite network tutorial](http://qiime.org/tutorials/making_cytoscape_networks.html)."
     ]
    },
    {
     "cell_type": "code",
     "collapsed": false,
     "input": [
      "!make_bipartite_network.py --osizes 'Abundance' --ssizes 'Abundance' --scolors 'assignment_method' --ocolors 'p' --sshapes 'Description' --oshapes 'f,g' -k taxonomy --md_fields mock,k,p,c,o,f,g -m $tax_output_study_dir/concatenated_otu_map.txt -i $tax_output_study_dir/concatenated_otu_table.biom -o bipartite_network/\n",
      "FileLinks('bipartite_network')"
     ],
     "language": "python",
     "metadata": {},
     "outputs": []
    },
    {
     "cell_type": "markdown",
     "metadata": {},
     "source": [
      "Finally, we can calculate precision, recall, and F-measure for the taxonomy assigners/configurations. This command generates a tab-separated-value (TSV) table that can easily be loaded into other tools such as Excel or R for visualization. The table contains data for each specified taxonomy assigner/configuration for each sample within the specified dataset(s). Note that in this demo we only have a single dataset (which only has a single sample). Results are also provided for each specified taxonomic level. We are specifying levels 2-6 in the following command."
     ]
    },
    {
     "cell_type": "code",
     "collapsed": false,
     "input": [
      "!precision-recall.pl $tax_output_dir $input_base $configs_str 2,3,4,5,6\n",
      "FileLink(join(tax_output_dir, 'precision_recall_table.txt'))"
     ],
     "language": "python",
     "metadata": {},
     "outputs": []
    }
   ],
   "metadata": {}
  }
 ]
}