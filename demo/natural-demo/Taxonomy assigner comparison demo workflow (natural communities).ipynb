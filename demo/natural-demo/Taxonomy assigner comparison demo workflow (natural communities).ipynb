{
 "metadata": {
  "name": "Taxonomy assigner comparison demo workflow (natural communities)"
 },
 "nbformat": 3,
 "nbformat_minor": 0,
 "worksheets": [
  {
   "cells": [
    {
     "cell_type": "heading",
     "level": 1,
     "metadata": {},
     "source": [
      "Comparing taxonomy assigners using natural communities: demo workflow"
     ]
    },
    {
     "cell_type": "markdown",
     "metadata": {},
     "source": [
      "This interactive notebook demonstrates what a workflow might look like when comparing two or more taxonomy assigners (or different assigner configurations, e.g. varying confidence levels) using natural community sequence data (i.e. data derived from empirical environmental samples, not mock communities). This example workflow is the basis for the comparisons that are made in the main text and supplementary materials of the paper. If you are interested in designing your own taxonomy assigner comparisons (e.g. comparing assigners not present in this study, trying out different datasets, etc.) this workflow is a good framework to start with.\n",
      "\n",
      "**IMPORTANT:** The data used in this notebook is a small, random subset of a very large dataset, which can be found in the public QIIME database under [study ID 449](ftp://thebeast.colorado.edu/pub/QIIME_DB_Public_Studies/study_449_split_library_seqs_and_mapping.zip). The results obtained from this notebook should not be used for anything other than illustrative purposes of the types of tables, plots, etc. that can be generated in order to facilitate comparison between taxonomy assigners. To see the full, published results, please refer to the main text and supplementary materials. **These are not real results for you to analyze!**"
     ]
    },
    {
     "cell_type": "heading",
     "level": 2,
     "metadata": {},
     "source": [
      "Before you begin"
     ]
    },
    {
     "cell_type": "markdown",
     "metadata": {},
     "source": [
      "You'll need to have a working [QIIME](http://www.qiime.org) installation on the computer that this notebook will be running on. This notebook was tested with the latest development version of QIIME (at the time of writing), which is QIIME 1.7.0-dev, master@7b0920b.\n",
      "\n",
      "You will also need a working installation of the [short-read-tax-assignment](https://github.com/gregcaporaso/short-read-tax-assignment) GitHub repository. Please see the README.md file included in that repository for installation details.\n",
      "\n",
      "Finally, you will need [Perl](http://www.perl.org/) installed."
     ]
    },
    {
     "cell_type": "heading",
     "level": 2,
     "metadata": {},
     "source": [
      "Setting things up"
     ]
    },
    {
     "cell_type": "markdown",
     "metadata": {},
     "source": [
      "We'll download the [Costello et al., 2009](http://www.ncbi.nlm.nih.gov/pubmed/19892944) \"Whole Body\" dataset from the public QIIME database (study ID 449) and choose a subset of sequences to work with, in order to reduce the time it takes to run the full demonstration. We'll also download the Greengenes 13_5 database, which we'll use as our reference database."
     ]
    },
    {
     "cell_type": "code",
     "collapsed": false,
     "input": [
      "# Download and extract the full dataset.\n",
      "!wget ftp://thebeast.colorado.edu/pub/QIIME_DB_Public_Studies/study_449_split_library_seqs_and_mapping.zip\n",
      "!unzip study_449_split_library_seqs_and_mapping.zip -d study_449\n",
      "!gunzip study_449/study_449_split_library_seqs.fna.gz\n",
      "!mv study_449/study_449_split_library_seqs.fna study_449/seqs1.fna\n",
      "\n",
      "# Subsample the dataset we just downloaded. Note: this will delete the original raw sequences file.\n",
      "# Back it up if you care!\n",
      "!subsample_fasta.py -i study_449/seqs1.fna -p 0.000126 -o study_449/seqs1_subsampled.fna\n",
      "!mv study_449/seqs1_subsampled.fna study_449/seqs1.fna\n",
      "\n",
      "!wget ftp://greengenes.microbio.me/greengenes_release/gg_13_5/gg_13_5_otus.tar.gz\n",
      "!tar -xzf gg_13_5_otus.tar.gz"
     ],
     "language": "python",
     "metadata": {},
     "outputs": []
    },
    {
     "cell_type": "markdown",
     "metadata": {},
     "source": [
      "We'll also set up some shortcuts to refer to common filepaths that will be used throughout the rest of the notebook."
     ]
    },
    {
     "cell_type": "code",
     "collapsed": false,
     "input": [
      "from os.path import join\n",
      "# these are only available in the current development branch of IPython\n",
      "from IPython.display import FileLinks, FileLink\n",
      "\n",
      "input_base = 'study_449'\n",
      "input_seqs = join(input_base, 'seqs1.fna')\n",
      "map_fp = join(input_base, 'study_449_mapping_file.txt')\n",
      "params_fp = 'demo_params.txt'\n",
      "\n",
      "otu_base = 'gg_13_5_otus'\n",
      "reference_seqs = join(otu_base, 'rep_set/97_otus.fasta')\n",
      "reference_tax = join(otu_base, 'taxonomy/97_otu_taxonomy.txt')\n",
      "\n",
      "tax_output_dir = 'multiple_assign_taxonomy'\n",
      "tax_output_study_dir = join(tax_output_dir, input_base)\n",
      "bdiv_compare_dir = 'bdiv_compare'\n",
      "procrustes_dir = 'procrustes'"
     ],
     "language": "python",
     "metadata": {},
     "outputs": []
    },
    {
     "cell_type": "heading",
     "level": 2,
     "metadata": {},
     "source": [
      "OTU picking"
     ]
    },
    {
     "cell_type": "markdown",
     "metadata": {},
     "source": [
      "We'll start off by performing open-reference OTU picking on the demultiplexed sequences that we downloaded. The goal is to end up with a representative set of sequences that will be passed to the taxonomy assigners to have their taxonomy determined.\n",
      "\n",
      "Note that taxonomy assignment is suppressed during the OTU picking step because we want to have an OTU table without taxonomy. This table will have taxonomy assignments added to it for the various assigner/parameter combinations (see the next step in the workflow).\n",
      "\n",
      "This step will take a few minutes to run."
     ]
    },
    {
     "cell_type": "code",
     "collapsed": false,
     "input": [
      "!pick_open_reference_otus.py -i $input_seqs -o $input_base -p $params_fp -r $reference_seqs --suppress_taxonomy_assignment --suppress_align_and_tree -f"
     ],
     "language": "python",
     "metadata": {},
     "outputs": []
    },
    {
     "cell_type": "heading",
     "level": 2,
     "metadata": {},
     "source": [
      "Taxonomy assignment"
     ]
    },
    {
     "cell_type": "markdown",
     "metadata": {},
     "source": [
      "This next command performs multiple taxonomy assignments using the BLAST and RDP taxonomy assigners. It uses various BLAST e-value thresholds and RDP confidence levels.\n",
      "\n",
      "Note that ```multiple_assign_taxonomy.py``` can operate on multiple input datasets. In this example, we are only specifying a single dataset in the interest of keeping the demo runtime relatively short. The script also supports the mothur and RTAX assigners.\n",
      "\n",
      "This step will take a few minutes to run."
     ]
    },
    {
     "cell_type": "code",
     "collapsed": false,
     "input": [
      "!multiple_assign_taxonomy.py -i $input_base -o $tax_output_dir -m blast,rdp -e 100,0.0001,0.000001,1,1e-10,1e-30 -c 0.1,0.5,0.8,1.0 -r $reference_seqs -t $reference_tax --rdp_max_memory 4000"
     ],
     "language": "python",
     "metadata": {},
     "outputs": []
    },
    {
     "cell_type": "heading",
     "level": 2,
     "metadata": {},
     "source": [
      "Beta diversity comparisons"
     ]
    },
    {
     "cell_type": "markdown",
     "metadata": {},
     "source": [
      "Next, we'll compute Bray-Curtis dissimilarities between the samples using the taxonomy assignments from each of the assigners/configurations that we just ran. We'll also run a principal coordinates analysis (PCoA) to generate 2- and 3-dimensional plots for each of the configurations.\n",
      "\n",
      "Since we are using natural community data instead of mock community data, we do not have an expected community composition to compare the assigners' results to. Instead, we include the original OTU-based data (pre-taxonomy assignment) in this analysis as a reference, so that we can compare the assigners' results to a common reference point that is not based on taxonomy information.\n",
      "\n",
      "This step may take between 15-25 minutes. It is the longest-running step in this notebook."
     ]
    },
    {
     "cell_type": "code",
     "collapsed": false,
     "input": [
      "!mkdir $bdiv_compare_dir\n",
      "\n",
      "configs = ['blast_0.0001', 'blast_1.0', 'blast_100.0',\n",
      "           'blast_1e-06', 'blast_1e-10', 'blast_1e-30',\n",
      "           'rdp_0.1', 'rdp_0.5', 'rdp_0.8', 'rdp_1.0']\n",
      "for config in configs:\n",
      "    !beta_diversity_through_plots.py -m $map_fp -p $params_fp --color_by_all_fields -f -i $tax_output_study_dir/$config/otu_table_mc2_w_taxa_L6.biom -o $bdiv_compare_dir/$config\n",
      "    !make_3d_plots.py -b \"BODY_HABITAT\" -m $map_fp -k white --n_taxa_keep -1 -i $bdiv_compare_dir/$config/bray_curtis_pc.txt -o $bdiv_compare_dir/$config/bray_curtis_3d_discrete_taxa -t $tax_output_study_dir/$config/otu_table_mc2_w_taxa_L6.txt\n",
      "\n",
      "# Generate our \"reference\" plots.    \n",
      "!beta_diversity_through_plots.py -m $map_fp -p $params_fp --color_by_all_fields -f -i $input_base/otu_table_mc2.biom -o $bdiv_compare_dir/unassigned/\n",
      "!make_emperor.py -m $map_fp -i $bdiv_compare_dir/unassigned/bray_curtis_pc.txt -o $bdiv_compare_dir/unassigned/emperor/ -b \"BODY_HABITAT\""
     ],
     "language": "python",
     "metadata": {},
     "outputs": []
    },
    {
     "cell_type": "markdown",
     "metadata": {},
     "source": [
      "Now that we have a set of 3D PCoA plots (one for each assigner/configuration), we compare them to the reference using Procrustes analysis. For more information on Procrustes analysis, see [this QIIME tutorial](http://qiime.org/tutorials/procrustes_analysis.html)."
     ]
    },
    {
     "cell_type": "code",
     "collapsed": false,
     "input": [
      "# Build up a comma-separated list of PCoA files.\n",
      "procrustes_input_str = ''\n",
      "for config in ['unassigned'] + configs:\n",
      "    procrustes_input_str += join(bdiv_compare_dir, config, 'bray_curtis_pc.txt,')\n",
      "procrustes_input_str = procrustes_input_str[:-1]\n",
      "\n",
      "# Run Procrustes analysis.\n",
      "!transform_coordinate_matrices.py -r 999 -o $procrustes_dir -i $procrustes_input_str\n",
      "\n",
      "# Load the results into Emperor for visualization.\n",
      "!mkdir $procrustes_dir/emperor\n",
      "!cp $procrustes_dir/bray_curtis_pc_transformed_* $procrustes_dir/emperor/\n",
      "!make_emperor.py -m $map_fp -i $procrustes_dir/emperor/ --compare_plots -o $procrustes_dir/emperor/plot/ -b \"BODY_HABITAT\"\n",
      "FileLink(join(procrustes_dir, 'emperor', 'plot', 'index.html'))"
     ],
     "language": "python",
     "metadata": {},
     "outputs": []
    },
    {
     "cell_type": "markdown",
     "metadata": {},
     "source": [
      "Finally, we perform some statistical analyses to see if any taxonomic groups significantly differ in their abundances across taxonomy assigners. We run an ANOVA to test this hypothesis."
     ]
    },
    {
     "cell_type": "code",
     "collapsed": false,
     "input": [
      "configs_str = ','.join(configs)\n",
      "\n",
      "# Collate data at the genus level (6).\n",
      "!taxonomy-dissimilarity-comparison.pl $tax_output_study_dir $configs_str 6\n",
      "!convert_biom.py --biom_table_type=\"otu table\" --process_obs_metadata taxonomy -i $tax_output_study_dir/dissimilarity_otu_table.txt -o $tax_output_study_dir/dissimilarity_otu_table.biom\n",
      "!otu_category_significance.py -c Description -m $tax_output_study_dir/dissimilarity_otu_map.txt -i $tax_output_study_dir/dissimilarity_otu_table.biom -o $tax_output_study_dir/category_significance.txt\n",
      "FileLink(join(tax_output_study_dir, 'category_significance.txt'))"
     ],
     "language": "python",
     "metadata": {},
     "outputs": []
    }
   ],
   "metadata": {}
  }
 ]
}